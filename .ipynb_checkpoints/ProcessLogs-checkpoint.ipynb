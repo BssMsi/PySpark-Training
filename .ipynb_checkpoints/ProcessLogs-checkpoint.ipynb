{
 "cells": [
  {
   "cell_type": "code",
   "execution_count": 1,
   "metadata": {},
   "outputs": [
    {
     "data": {
      "text/html": [
       "\n",
       "            <div>\n",
       "                <p><b>SparkSession - in-memory</b></p>\n",
       "                \n",
       "        <div>\n",
       "            <p><b>SparkContext</b></p>\n",
       "\n",
       "            <p><a href=\"http://ip-10-0-1-11.ec2.internal:4042\">Spark UI</a></p>\n",
       "\n",
       "            <dl>\n",
       "              <dt>Version</dt>\n",
       "                <dd><code>v3.0.0</code></dd>\n",
       "              <dt>Master</dt>\n",
       "                <dd><code>local[*]</code></dd>\n",
       "              <dt>AppName</dt>\n",
       "                <dd><code>Process Logs</code></dd>\n",
       "            </dl>\n",
       "        </div>\n",
       "        \n",
       "            </div>\n",
       "        "
      ],
      "text/plain": [
       "<pyspark.sql.session.SparkSession at 0x7f4bc435b410>"
      ]
     },
     "execution_count": 1,
     "metadata": {},
     "output_type": "execute_result"
    }
   ],
   "source": [
    "from pyspark.sql import SparkSession\n",
    "spark = SparkSession.builder.appName(\"Process Logs\").getOrCreate()\n",
    "spark"
   ]
  },
  {
   "cell_type": "code",
   "execution_count": 18,
   "metadata": {},
   "outputs": [],
   "source": [
    "import re\n",
    "from pyspark.sql import functions as F, types as T"
   ]
  },
  {
   "cell_type": "code",
   "execution_count": 2,
   "metadata": {},
   "outputs": [
    {
     "name": "stdout",
     "output_type": "stream",
     "text": [
      "32\n"
     ]
    }
   ],
   "source": [
    "import os\n",
    "print(os.cpu_count())"
   ]
  },
  {
   "cell_type": "markdown",
   "metadata": {},
   "source": [
    "# Apache Access Logs"
   ]
  },
  {
   "cell_type": "code",
   "execution_count": 3,
   "metadata": {},
   "outputs": [
    {
     "name": "stdout",
     "output_type": "stream",
     "text": [
      "38487\n"
     ]
    }
   ],
   "source": [
    "df_2004 = spark.read.text(\"data/linux_2004/log/httpd/access_log*\")\n",
    "print(df_2004.count())"
   ]
  },
  {
   "cell_type": "code",
   "execution_count": 4,
   "metadata": {},
   "outputs": [
    {
     "name": "stdout",
     "output_type": "stream",
     "text": [
      "5936\n"
     ]
    }
   ],
   "source": [
    "df_2005 = spark.read.text(\"data/linux_2005/log/httpd/access_log*\")\n",
    "print(df_2005.count())"
   ]
  },
  {
   "cell_type": "code",
   "execution_count": 5,
   "metadata": {},
   "outputs": [
    {
     "name": "stdout",
     "output_type": "stream",
     "text": [
      "36310\n"
     ]
    }
   ],
   "source": [
    "df_2006 = spark.read.text(\"data/linux_2006/log/httpd/access_log*\")\n",
    "print(df_2006.count())"
   ]
  },
  {
   "cell_type": "code",
   "execution_count": 6,
   "metadata": {},
   "outputs": [
    {
     "name": "stdout",
     "output_type": "stream",
     "text": [
      "6016792\n"
     ]
    }
   ],
   "source": [
    "df_access = spark.read.text(\"data/apache/access.log\")\n",
    "print(df_access.count())"
   ]
  },
  {
   "cell_type": "markdown",
   "metadata": {},
   "source": [
    "## Combine into single DataFrame"
   ]
  },
  {
   "cell_type": "code",
   "execution_count": 22,
   "metadata": {},
   "outputs": [
    {
     "name": "stdout",
     "output_type": "stream",
     "text": [
      "6097524\n",
      "CPU times: user 1.95 ms, sys: 148 µs, total: 2.09 ms\n",
      "Wall time: 362 ms\n"
     ]
    }
   ],
   "source": [
    "%%time\n",
    "raw_df = df_access.union(df_2004.union(df_2005.union(df_2006))).where(\"value <> ''\")\n",
    "total = raw_df.count()\n",
    "print(total)"
   ]
  },
  {
   "cell_type": "code",
   "execution_count": 23,
   "metadata": {},
   "outputs": [
    {
     "name": "stdout",
     "output_type": "stream",
     "text": [
      "90\n"
     ]
    }
   ],
   "source": [
    "print(raw_df.rdd.getNumPartitions())"
   ]
  },
  {
   "cell_type": "markdown",
   "metadata": {},
   "source": [
    "# EDA"
   ]
  },
  {
   "cell_type": "code",
   "execution_count": 25,
   "metadata": {},
   "outputs": [
    {
     "name": "stdout",
     "output_type": "stream",
     "text": [
      "4256760\n",
      "CPU times: user 251 ms, sys: 23.1 ms, total: 274 ms\n",
      "Wall time: 10.8 s\n"
     ]
    }
   ],
   "source": [
    "%%time\n",
    "distinct_raw_df = spark.createDataFrame(raw_df.rdd.distinct())\n",
    "print(distinct_raw_df.count())"
   ]
  },
  {
   "cell_type": "code",
   "execution_count": 26,
   "metadata": {},
   "outputs": [
    {
     "name": "stdout",
     "output_type": "stream",
     "text": [
      "15\n",
      "CPU times: user 1.34 ms, sys: 0 ns, total: 1.34 ms\n",
      "Wall time: 368 ms\n"
     ]
    }
   ],
   "source": [
    "%%time\n",
    "sample_df = raw_df.sample(fraction=10/total)\n",
    "print(sample_df.count())"
   ]
  },
  {
   "cell_type": "code",
   "execution_count": 27,
   "metadata": {},
   "outputs": [],
   "source": [
    "sample = list(map(lambda x: x['value'], sample_df.collect()))"
   ]
  },
  {
   "cell_type": "markdown",
   "metadata": {},
   "source": [
    "## Using Regular Expressions for extracting the fields of the log as columns"
   ]
  },
  {
   "cell_type": "code",
   "execution_count": 28,
   "metadata": {},
   "outputs": [],
   "source": [
    "log_fields = ('IP', 'UserIdentity', 'Username', 'Timestamp', 'Request', 'StatusCode', \n",
    "              'Size(bytes)', 'Referrer', 'UserAgent')\n",
    "pattern = r'(.+) (.+) (.+) \\[(.+)\\] \"(.+)\" (\\d+) (\\d+) \"(.+?)\" \"(.+?)\"'"
   ]
  },
  {
   "cell_type": "markdown",
   "metadata": {},
   "source": [
    "#### Some re pattern explanations\n",
    "<pre>\n",
    "(.+?) - non-greedy matching\n",
    "(\".+\")? - optional group\n",
    "</pre>"
   ]
  },
  {
   "cell_type": "markdown",
   "metadata": {},
   "source": [
    "### Using regexp_extract function"
   ]
  },
  {
   "cell_type": "code",
   "execution_count": 32,
   "metadata": {},
   "outputs": [
    {
     "name": "stdout",
     "output_type": "stream",
     "text": [
      "6097524\n",
      "CPU times: user 97.7 ms, sys: 15.5 ms, total: 113 ms\n",
      "Wall time: 24min 21s\n"
     ]
    }
   ],
   "source": [
    "%%time\n",
    "extracted_df = raw_df.select(F.regexp_extract(\"value\", pattern, 1).alias('IP'),\n",
    "                             F.regexp_extract(\"value\", pattern, 2).alias('UserIdentity'),\n",
    "                             F.regexp_extract(\"value\", pattern, 3).alias('Username'),\n",
    "                             F.to_timestamp(F.regexp_extract(\"value\", pattern, 4), 'dd/MMM/yyyy:HH:mm:ss Z').alias('Timestamp'),\n",
    "                             F.regexp_extract(\"value\", pattern, 5).alias('Request'),\n",
    "                             F.regexp_extract(\"value\", pattern, 6).cast(\"integer\").alias('StatusCode'),\n",
    "                             F.regexp_extract(\"value\", pattern, 7).cast(\"integer\").alias('Size(bytes)'),\n",
    "                             F.regexp_extract(\"value\", pattern, 8).alias('Referrer'),\n",
    "                             F.regexp_extract(\"value\", pattern, 9).alias('UserAgent')\n",
    "                             ).cache()\n",
    "print(extracted_df.count())"
   ]
  },
  {
   "cell_type": "code",
   "execution_count": 33,
   "metadata": {},
   "outputs": [
    {
     "name": "stdout",
     "output_type": "stream",
     "text": [
      "+---------------+------------+--------+-------------------+--------------------+----------+-----------+--------------------+--------------------+\n",
      "|             IP|UserIdentity|Username|          Timestamp|             Request|StatusCode|Size(bytes)|            Referrer|           UserAgent|\n",
      "+---------------+------------+--------+-------------------+--------------------+----------+-----------+--------------------+--------------------+\n",
      "|109.169.248.247|           -|       -|2015-12-12 17:25:11|GET /administrato...|       200|       4263|                   -|Mozilla/5.0 (Wind...|\n",
      "|109.169.248.247|           -|       -|2015-12-12 17:25:11|POST /administrat...|       200|       4494|http://almhuette-...|Mozilla/5.0 (Wind...|\n",
      "|    46.72.177.4|           -|       -|2015-12-12 17:31:08|GET /administrato...|       200|       4263|                   -|Mozilla/5.0 (Wind...|\n",
      "|    46.72.177.4|           -|       -|2015-12-12 17:31:08|POST /administrat...|       200|       4494|http://almhuette-...|Mozilla/5.0 (Wind...|\n",
      "| 83.167.113.100|           -|       -|2015-12-12 17:31:25|GET /administrato...|       200|       4263|                   -|Mozilla/5.0 (Wind...|\n",
      "+---------------+------------+--------+-------------------+--------------------+----------+-----------+--------------------+--------------------+\n",
      "only showing top 5 rows\n",
      "\n"
     ]
    }
   ],
   "source": [
    "extracted_df.show(5)"
   ]
  },
  {
   "cell_type": "markdown",
   "metadata": {},
   "source": [
    "# Analyze IP addresses"
   ]
  },
  {
   "cell_type": "code",
   "execution_count": 34,
   "metadata": {},
   "outputs": [],
   "source": [
    "import pandas as pd\n",
    "import requests\n",
    "import json"
   ]
  },
  {
   "cell_type": "code",
   "execution_count": 252,
   "metadata": {},
   "outputs": [
    {
     "name": "stdout",
     "output_type": "stream",
     "text": [
      "We have a total of 90015 unique visitors\n",
      "CPU times: user 743 ms, sys: 1.43 ms, total: 744 ms\n",
      "Wall time: 1.59 s\n"
     ]
    }
   ],
   "source": [
    "%%time\n",
    "ips = extracted_df.select(\"IP\").where(\"IP <> ''\").distinct()\n",
    "print(f\"We have a total of {ips.count()} unique visitors\")"
   ]
  },
  {
   "cell_type": "markdown",
   "metadata": {},
   "source": [
    "## Number of unique daily hosts"
   ]
  },
  {
   "cell_type": "code",
   "execution_count": null,
   "metadata": {},
   "outputs": [],
   "source": [
    "Window\n",
    "  .PartitionBy(\"id\")\n",
    "  .OrderBy(F.col(\"date\").cast(\"timestamp\").cast(\"long\"))\n",
    "  .RangeBetween((int64)((-7)*60*60*24), (int64)((-1)*60*60*24))"
   ]
  },
  {
   "cell_type": "code",
   "execution_count": null,
   "metadata": {},
   "outputs": [],
   "source": [
    "df.select(F.count(\"IP\").over(winSpec)).show()"
   ]
  },
  {
   "cell_type": "code",
   "execution_count": null,
   "metadata": {},
   "outputs": [],
   "source": []
  },
  {
   "cell_type": "markdown",
   "metadata": {},
   "source": [
    "## IP Address Locations"
   ]
  },
  {
   "cell_type": "markdown",
   "metadata": {},
   "source": [
    "### Clean the locations data scraped from the Web"
   ]
  },
  {
   "cell_type": "code",
   "execution_count": 246,
   "metadata": {},
   "outputs": [
    {
     "name": "stdout",
     "output_type": "stream",
     "text": [
      "CPU times: user 2.64 ms, sys: 36 µs, total: 2.67 ms\n",
      "Wall time: 3.95 s\n"
     ]
    },
    {
     "data": {
      "text/plain": [
       "90001"
      ]
     },
     "execution_count": 246,
     "metadata": {},
     "output_type": "execute_result"
    }
   ],
   "source": [
    "%%time\n",
    "l_df = spark.read.json('iplocation/IPLocation.json').distinct().cache()\\\n",
    "                .where(F.col(\"_corrupt_record\").isNull()).drop(\"_corrupt_record\")\n",
    "l_df.count()"
   ]
  },
  {
   "cell_type": "markdown",
   "metadata": {},
   "source": [
    "#### Left Anti-join show rows from the left which are not present in right"
   ]
  },
  {
   "cell_type": "code",
   "execution_count": 241,
   "metadata": {},
   "outputs": [
    {
     "name": "stdout",
     "output_type": "stream",
     "text": [
      "+------------------------------------+\n",
      "|IP                                  |\n",
      "+------------------------------------+\n",
      "|217.216.115.198.dyn.user.ono.com    |\n",
      "|pcp740115pcs.reston01.va.comcast.net|\n",
      "|                                    |\n",
      "|200.163.13.65                       |\n",
      "|142.93.239.94                       |\n",
      "|218.2.191.31                        |\n",
      "|194.54.152.8                        |\n",
      "|66.102.9.31                         |\n",
      "|62.117.154.141                      |\n",
      "|85.26.165.151                       |\n",
      "|128.69.19.250                       |\n",
      "|90.151.94.131                       |\n",
      "|109.225.31.60                       |\n",
      "|23.254.49.21                        |\n",
      "|54.189.60.10                        |\n",
      "+------------------------------------+\n",
      "\n"
     ]
    }
   ],
   "source": [
    "ips.join(locations_df, ips.IP==l_df.ip, how=\"left_anti\").show(truncate=False)"
   ]
  },
  {
   "cell_type": "code",
   "execution_count": 247,
   "metadata": {},
   "outputs": [],
   "source": [
    "l_pdf = locations_df.toPandas()"
   ]
  },
  {
   "cell_type": "code",
   "execution_count": 255,
   "metadata": {},
   "outputs": [],
   "source": [
    "# Added ip locations info manually for the above records\n",
    "l_pdf = l_pdf.append(manual)"
   ]
  },
  {
   "cell_type": "code",
   "execution_count": 257,
   "metadata": {},
   "outputs": [],
   "source": [
    "l_pdf.to_json('data/locations.json', orient='records', lines=True)"
   ]
  },
  {
   "cell_type": "code",
   "execution_count": 258,
   "metadata": {},
   "outputs": [
    {
     "data": {
      "text/plain": [
       "DataFrame[city: string, country: string, hostname: string, ip: string, loc: string, org: string, postal: string, readme: string, region: string, timezone: string]"
      ]
     },
     "execution_count": 258,
     "metadata": {},
     "output_type": "execute_result"
    }
   ],
   "source": [
    "l_df.unpersist()"
   ]
  },
  {
   "cell_type": "markdown",
   "metadata": {},
   "source": [
    "### Load the Cleaned Location data"
   ]
  },
  {
   "cell_type": "code",
   "execution_count": 260,
   "metadata": {},
   "outputs": [
    {
     "name": "stdout",
     "output_type": "stream",
     "text": [
      "CPU times: user 1.09 ms, sys: 963 µs, total: 2.05 ms\n",
      "Wall time: 3.16 s\n"
     ]
    },
    {
     "data": {
      "text/plain": [
       "90015"
      ]
     },
     "execution_count": 260,
     "metadata": {},
     "output_type": "execute_result"
    }
   ],
   "source": [
    "%%time\n",
    "locations_df = spark.read.json('data/locations.json')\n",
    "locations_df.count()"
   ]
  },
  {
   "cell_type": "markdown",
   "metadata": {},
   "source": [
    "#### Check for any missing IP locations info"
   ]
  },
  {
   "cell_type": "code",
   "execution_count": 262,
   "metadata": {},
   "outputs": [
    {
     "name": "stdout",
     "output_type": "stream",
     "text": [
      "+---+\n",
      "|IP |\n",
      "+---+\n",
      "+---+\n",
      "\n"
     ]
    }
   ],
   "source": [
    "ips.join(locations_df, ips.IP==locations_df.ip, how=\"left_anti\").show(truncate=False)"
   ]
  },
  {
   "cell_type": "markdown",
   "metadata": {},
   "source": [
    "### Join with original df"
   ]
  },
  {
   "cell_type": "code",
   "execution_count": 264,
   "metadata": {},
   "outputs": [
    {
     "data": {
      "text/plain": [
       "90015"
      ]
     },
     "execution_count": 264,
     "metadata": {},
     "output_type": "execute_result"
    }
   ],
   "source": [
    "ips_locations = ips.join(locations_df, ips.IP==locations_df.ip, how=\"inner\")\n",
    "ips_locations.count()"
   ]
  },
  {
   "cell_type": "code",
   "execution_count": null,
   "metadata": {},
   "outputs": [],
   "source": []
  },
  {
   "cell_type": "markdown",
   "metadata": {},
   "source": [
    "# Analyze HTTP Requests"
   ]
  },
  {
   "cell_type": "code",
   "execution_count": 51,
   "metadata": {},
   "outputs": [
    {
     "data": {
      "text/plain": [
       "6084776"
      ]
     },
     "execution_count": 51,
     "metadata": {},
     "output_type": "execute_result"
    }
   ],
   "source": [
    "req = extracted_df.select(\"Request\", \"StatusCode\", \"Size(bytes)\").where(\"Request <> ''\")\n",
    "req.count()"
   ]
  },
  {
   "cell_type": "markdown",
   "metadata": {},
   "source": [
    "## Analyze Request text"
   ]
  },
  {
   "cell_type": "code",
   "execution_count": 52,
   "metadata": {},
   "outputs": [
    {
     "name": "stdout",
     "output_type": "stream",
     "text": [
      "+--------------------+----------+-----------+----+--------------------+--------+\n",
      "|             Request|StatusCode|Size(bytes)|Type|                Page|Protocol|\n",
      "+--------------------+----------+-----------+----+--------------------+--------+\n",
      "|GET /administrato...|       200|       4263| GET|     /administrator/|HTTP/1.1|\n",
      "|POST /administrat...|       200|       4494|POST|/administrator/in...|HTTP/1.1|\n",
      "|GET /administrato...|       200|       4263| GET|     /administrator/|HTTP/1.1|\n",
      "+--------------------+----------+-----------+----+--------------------+--------+\n",
      "only showing top 3 rows\n",
      "\n"
     ]
    }
   ],
   "source": [
    "splitCol = F.split('Request', \" \")\n",
    "req_text = req.withColumn('Type', splitCol.getItem(0))\\\n",
    "                .withColumn('Page', splitCol.getItem(1))\\\n",
    "                .withColumn('Protocol', splitCol.getItem(2))\n",
    "req_text.show(3)"
   ]
  },
  {
   "cell_type": "markdown",
   "metadata": {},
   "source": [
    "## Analyze Type of Request\n",
    "### Type of successful(200) Requests and their counts"
   ]
  },
  {
   "cell_type": "code",
   "execution_count": 298,
   "metadata": {},
   "outputs": [
    {
     "data": {
      "image/png": "[encoded data removed]",
      "text/plain": [
       "<Figure size 1080x360 with 1 Axes>"
      ]
     },
     "metadata": {
      "needs_background": "light"
     },
     "output_type": "display_data"
    }
   ],
   "source": [
    "req_type_counts = req_text.filter(\"StatusCode = 200\").groupBy(\"Type\").count().orderBy(F.desc(\"count\")).limit(10).toPandas().set_index(\"Type\")\n",
    "# For better visual\n",
    "req_type_counts.index = list(map(lambda x: x[-10:], req_type_counts.index))\n",
    "ax = req_type_counts.plot(kind=\"bar\", rot=0, figsize=(15, 5), legend=False)\n",
    "ax.set_title(\"Top 10 Successfull Request Types\");"
   ]
  },
  {
   "cell_type": "markdown",
   "metadata": {},
   "source": [
    "## Analyze Status Codes"
   ]
  },
  {
   "cell_type": "markdown",
   "metadata": {},
   "source": [
    "### Erroneous Pages"
   ]
  },
  {
   "cell_type": "code",
   "execution_count": 95,
   "metadata": {},
   "outputs": [
    {
     "name": "stdout",
     "output_type": "stream",
     "text": [
      "We have 199094 Erroneous Pages\n"
     ]
    }
   ],
   "source": [
    "df_errors = req_text.filter(\"StatusCode <> 200\")\n",
    "print(f\"We have {df_errors.distinct().count()} Erroneous Pages\")"
   ]
  },
  {
   "cell_type": "code",
   "execution_count": 97,
   "metadata": {},
   "outputs": [
    {
     "name": "stdout",
     "output_type": "stream",
     "text": [
      "Most frequent Erroneous Endpoints\n"
     ]
    },
    {
     "data": {
      "text/html": [
       "<div>\n",
       "<style scoped>\n",
       "    .dataframe tbody tr th:only-of-type {\n",
       "        vertical-align: middle;\n",
       "    }\n",
       "\n",
       "    .dataframe tbody tr th {\n",
       "        vertical-align: top;\n",
       "    }\n",
       "\n",
       "    .dataframe thead th {\n",
       "        text-align: right;\n",
       "    }\n",
       "</style>\n",
       "<table border=\"1\" class=\"dataframe\">\n",
       "  <thead>\n",
       "    <tr style=\"text-align: right;\">\n",
       "      <th></th>\n",
       "      <th>StatusCode</th>\n",
       "      <th>count</th>\n",
       "    </tr>\n",
       "    <tr>\n",
       "      <th>Page</th>\n",
       "      <th></th>\n",
       "      <th></th>\n",
       "    </tr>\n",
       "  </thead>\n",
       "  <tbody>\n",
       "    <tr>\n",
       "      <th>/apache-log/access.log</th>\n",
       "      <td>206</td>\n",
       "      <td>1519675</td>\n",
       "    </tr>\n",
       "    <tr>\n",
       "      <th>/index.php?option=com_contact&amp;view=contact&amp;id=1</th>\n",
       "      <td>303</td>\n",
       "      <td>143128</td>\n",
       "    </tr>\n",
       "    <tr>\n",
       "      <th>/templates/_system/css/general.css</th>\n",
       "      <td>404</td>\n",
       "      <td>38664</td>\n",
       "    </tr>\n",
       "    <tr>\n",
       "      <th>/favicon.ico</th>\n",
       "      <td>404</td>\n",
       "      <td>24999</td>\n",
       "    </tr>\n",
       "    <tr>\n",
       "      <th>/admin%24</th>\n",
       "      <td>404</td>\n",
       "      <td>10533</td>\n",
       "    </tr>\n",
       "    <tr>\n",
       "      <th>...</th>\n",
       "      <td>...</td>\n",
       "      <td>...</td>\n",
       "    </tr>\n",
       "    <tr>\n",
       "      <th>/cgi-bin/cgiforum.pl?thesection=../../../../../../../../../../etc/passwd%00</th>\n",
       "      <td>404</td>\n",
       "      <td>1</td>\n",
       "    </tr>\n",
       "    <tr>\n",
       "      <th>/cgi-bin/ion-p.exe?page=c:\\winnt\\repair\\sam</th>\n",
       "      <td>404</td>\n",
       "      <td>1</td>\n",
       "    </tr>\n",
       "    <tr>\n",
       "      <th>/cgi-bin/query?mss=%2e%2e/config</th>\n",
       "      <td>404</td>\n",
       "      <td>1</td>\n",
       "    </tr>\n",
       "    <tr>\n",
       "      <th>/cgi-bin/urlcount.cgi?%3CIMG%20SRC%3D%22%22%20ONERROR%3D%22alert%28%27Vulnerable%27%29%22%3E</th>\n",
       "      <td>404</td>\n",
       "      <td>1</td>\n",
       "    </tr>\n",
       "    <tr>\n",
       "      <th>/cgi-bin/c_download.cgi</th>\n",
       "      <td>404</td>\n",
       "      <td>1</td>\n",
       "    </tr>\n",
       "  </tbody>\n",
       "</table>\n",
       "<p>176358 rows × 2 columns</p>\n",
       "</div>"
      ],
      "text/plain": [
       "                                                    StatusCode    count\n",
       "Page                                                                   \n",
       "/apache-log/access.log                                     206  1519675\n",
       "/index.php?option=com_contact&view=contact&id=1            303   143128\n",
       "/templates/_system/css/general.css                         404    38664\n",
       "/favicon.ico                                               404    24999\n",
       "/admin%24                                                  404    10533\n",
       "...                                                        ...      ...\n",
       "/cgi-bin/cgiforum.pl?thesection=../../../../../...         404        1\n",
       "/cgi-bin/ion-p.exe?page=c:\\winnt\\repair\\sam                404        1\n",
       "/cgi-bin/query?mss=%2e%2e/config                           404        1\n",
       "/cgi-bin/urlcount.cgi?%3CIMG%20SRC%3D%22%22%20O...         404        1\n",
       "/cgi-bin/c_download.cgi                                    404        1\n",
       "\n",
       "[176358 rows x 2 columns]"
      ]
     },
     "execution_count": 97,
     "metadata": {},
     "output_type": "execute_result"
    }
   ],
   "source": [
    "print(\"Most frequent Erroneous Endpoints\")\n",
    "df_errors.groupBy(\"Page\", \"StatusCode\").count().orderBy(F.desc(\"count\")).toPandas().set_index(\"Page\")"
   ]
  },
  {
   "cell_type": "markdown",
   "metadata": {},
   "source": [
    "### 404 Not Found links"
   ]
  },
  {
   "cell_type": "code",
   "execution_count": 104,
   "metadata": {},
   "outputs": [
    {
     "name": "stdout",
     "output_type": "stream",
     "text": [
      "We have a total of 708778 '404 Not found' errors, The Top 10 most frequent ones are as below\n"
     ]
    },
    {
     "data": {
      "text/html": [
       "<div>\n",
       "<style scoped>\n",
       "    .dataframe tbody tr th:only-of-type {\n",
       "        vertical-align: middle;\n",
       "    }\n",
       "\n",
       "    .dataframe tbody tr th {\n",
       "        vertical-align: top;\n",
       "    }\n",
       "\n",
       "    .dataframe thead th {\n",
       "        text-align: right;\n",
       "    }\n",
       "</style>\n",
       "<table border=\"1\" class=\"dataframe\">\n",
       "  <thead>\n",
       "    <tr style=\"text-align: right;\">\n",
       "      <th></th>\n",
       "      <th>count</th>\n",
       "    </tr>\n",
       "    <tr>\n",
       "      <th>Page</th>\n",
       "      <th></th>\n",
       "    </tr>\n",
       "  </thead>\n",
       "  <tbody>\n",
       "    <tr>\n",
       "      <th>/templates/_system/css/general.css</th>\n",
       "      <td>38664</td>\n",
       "    </tr>\n",
       "    <tr>\n",
       "      <th>/favicon.ico</th>\n",
       "      <td>24999</td>\n",
       "    </tr>\n",
       "    <tr>\n",
       "      <th>/admin%24</th>\n",
       "      <td>10533</td>\n",
       "    </tr>\n",
       "    <tr>\n",
       "      <th>/wp-login.php</th>\n",
       "      <td>9564</td>\n",
       "    </tr>\n",
       "    <tr>\n",
       "      <th>/apple-touch-icon.png</th>\n",
       "      <td>4671</td>\n",
       "    </tr>\n",
       "    <tr>\n",
       "      <th>/apple-touch-icon-precomposed.png</th>\n",
       "      <td>4606</td>\n",
       "    </tr>\n",
       "    <tr>\n",
       "      <th>/c%24</th>\n",
       "      <td>4314</td>\n",
       "    </tr>\n",
       "    <tr>\n",
       "      <th>/apple-touch-icon-120x120-precomposed.png</th>\n",
       "      <td>4290</td>\n",
       "    </tr>\n",
       "    <tr>\n",
       "      <th>/apple-touch-icon-120x120.png</th>\n",
       "      <td>4289</td>\n",
       "    </tr>\n",
       "    <tr>\n",
       "      <th>/xmlrpc.php</th>\n",
       "      <td>3654</td>\n",
       "    </tr>\n",
       "  </tbody>\n",
       "</table>\n",
       "</div>"
      ],
      "text/plain": [
       "                                           count\n",
       "Page                                            \n",
       "/templates/_system/css/general.css         38664\n",
       "/favicon.ico                               24999\n",
       "/admin%24                                  10533\n",
       "/wp-login.php                               9564\n",
       "/apple-touch-icon.png                       4671\n",
       "/apple-touch-icon-precomposed.png           4606\n",
       "/c%24                                       4314\n",
       "/apple-touch-icon-120x120-precomposed.png   4290\n",
       "/apple-touch-icon-120x120.png               4289\n",
       "/xmlrpc.php                                 3654"
      ]
     },
     "execution_count": 104,
     "metadata": {},
     "output_type": "execute_result"
    }
   ],
   "source": [
    "df_404 = req_text.filter(\"StatusCode = 404\")\n",
    "print(f\"We have a total of {df_404.count()} '404 Not found' errors, The Top 10 most frequent ones are as below\")\n",
    "df_404.groupBy(\"Page\").count().orderBy(F.desc(\"count\")).limit(10).toPandas().set_index(\"Page\")"
   ]
  },
  {
   "cell_type": "markdown",
   "metadata": {},
   "source": [
    "### Protocols Used"
   ]
  },
  {
   "cell_type": "code",
   "execution_count": 301,
   "metadata": {},
   "outputs": [
    {
     "data": {
      "image/png": "[encoded data removed]",
      "text/plain": [
       "<Figure size 720x360 with 1 Axes>"
      ]
     },
     "metadata": {
      "needs_background": "light"
     },
     "output_type": "display_data"
    }
   ],
   "source": [
    "df_protocol = req_text.groupBy(\"Protocol\").count().orderBy(F.desc(\"count\")).limit(5).toPandas().set_index(\"Protocol\")\n",
    "ax = df_protocol.plot(kind=\"bar\", rot=0, figsize=(10, 5), legend=False)\n",
    "ax.set_title(\"Top 5 Protocols Used\");"
   ]
  },
  {
   "cell_type": "markdown",
   "metadata": {},
   "source": [
    "## Analyze Response size"
   ]
  },
  {
   "cell_type": "code",
   "execution_count": 109,
   "metadata": {},
   "outputs": [],
   "source": [
    "size = req.select(F.col(\"Size(bytes)\").alias(\"Size\"))"
   ]
  },
  {
   "cell_type": "code",
   "execution_count": 121,
   "metadata": {},
   "outputs": [
    {
     "name": "stdout",
     "output_type": "stream",
     "text": [
      "Maximum and minimum response sizes\n",
      "+------------+---------+\n",
      "|Max Size(GB)|min(Size)|\n",
      "+------------+---------+\n",
      "| 1.220959388|        0|\n",
      "+------------+---------+\n",
      "\n"
     ]
    }
   ],
   "source": [
    "print(\"Maximum and minimum response sizes\")\n",
    "size.select((F.max(\"Size\") / 1e9).alias(\"Max Size(GB)\"), F.min(\"Size\")).show()"
   ]
  },
  {
   "cell_type": "code",
   "execution_count": 147,
   "metadata": {},
   "outputs": [
    {
     "name": "stdout",
     "output_type": "stream",
     "text": [
      "Frquency of Response Size (in bytes)\n"
     ]
    },
    {
     "data": {
      "text/html": [
       "<div>\n",
       "<style scoped>\n",
       "    .dataframe tbody tr th:only-of-type {\n",
       "        vertical-align: middle;\n",
       "    }\n",
       "\n",
       "    .dataframe tbody tr th {\n",
       "        vertical-align: top;\n",
       "    }\n",
       "\n",
       "    .dataframe thead th {\n",
       "        text-align: right;\n",
       "    }\n",
       "</style>\n",
       "<table border=\"1\" class=\"dataframe\">\n",
       "  <thead>\n",
       "    <tr style=\"text-align: right;\">\n",
       "      <th></th>\n",
       "      <th>count</th>\n",
       "    </tr>\n",
       "    <tr>\n",
       "      <th>Size</th>\n",
       "      <th></th>\n",
       "    </tr>\n",
       "  </thead>\n",
       "  <tbody>\n",
       "    <tr>\n",
       "      <th>4481</th>\n",
       "      <td>699414</td>\n",
       "    </tr>\n",
       "    <tr>\n",
       "      <th>4270</th>\n",
       "      <td>595539</td>\n",
       "    </tr>\n",
       "    <tr>\n",
       "      <th>4498</th>\n",
       "      <td>550697</td>\n",
       "    </tr>\n",
       "    <tr>\n",
       "      <th>4501</th>\n",
       "      <td>299561</td>\n",
       "    </tr>\n",
       "    <tr>\n",
       "      <th>4494</th>\n",
       "      <td>175483</td>\n",
       "    </tr>\n",
       "    <tr>\n",
       "      <th>9873</th>\n",
       "      <td>160449</td>\n",
       "    </tr>\n",
       "    <tr>\n",
       "      <th>5</th>\n",
       "      <td>148370</td>\n",
       "    </tr>\n",
       "    <tr>\n",
       "      <th>43192</th>\n",
       "      <td>140815</td>\n",
       "    </tr>\n",
       "    <tr>\n",
       "      <th>12272</th>\n",
       "      <td>136628</td>\n",
       "    </tr>\n",
       "    <tr>\n",
       "      <th>4263</th>\n",
       "      <td>117744</td>\n",
       "    </tr>\n",
       "  </tbody>\n",
       "</table>\n",
       "</div>"
      ],
      "text/plain": [
       "        count\n",
       "Size         \n",
       "4481   699414\n",
       "4270   595539\n",
       "4498   550697\n",
       "4501   299561\n",
       "4494   175483\n",
       "9873   160449\n",
       "5      148370\n",
       "43192  140815\n",
       "12272  136628\n",
       "4263   117744"
      ]
     },
     "execution_count": 147,
     "metadata": {},
     "output_type": "execute_result"
    }
   ],
   "source": [
    "print(\"Frquency of Response Size (in bytes)\")\n",
    "size_counts = size.groupBy(\"Size\").count().orderBy(\"count\").toPandas().set_index(\"Size\").sort_values(\"count\", ascending=False)\n",
    "size_counts[:10]"
   ]
  },
  {
   "cell_type": "markdown",
   "metadata": {},
   "source": [
    "### Bucket using Normal UDF"
   ]
  },
  {
   "cell_type": "code",
   "execution_count": 131,
   "metadata": {},
   "outputs": [],
   "source": [
    "def bucket(x):\n",
    "    if x <= 1e3:\n",
    "        return \"<=1KB\"\n",
    "    elif x < 1e6:\n",
    "        return \"1KB-1MB\"\n",
    "    elif x < 100e6:\n",
    "        return \"1-100MB\"\n",
    "    elif x < 1e9:\n",
    "        return \"0.5-1GB\"\n",
    "    return \">1GB\"\n",
    "\n",
    "bucket_udf = F.udf(bucket, T.StringType())"
   ]
  },
  {
   "cell_type": "code",
   "execution_count": 132,
   "metadata": {},
   "outputs": [
    {
     "name": "stdout",
     "output_type": "stream",
     "text": [
      "CPU times: user 4.63 ms, sys: 94 µs, total: 4.72 ms\n",
      "Wall time: 92.5 ms\n"
     ]
    },
    {
     "data": {
      "text/plain": [
       "6084776"
      ]
     },
     "execution_count": 132,
     "metadata": {},
     "output_type": "execute_result"
    }
   ],
   "source": [
    "%%time\n",
    "bucketed_df_udf = size.select(\"Size\", bucket_udf(\"Size\").alias(\"Bucket\"))\n",
    "bucketed_df_udf.count()"
   ]
  },
  {
   "cell_type": "code",
   "execution_count": 145,
   "metadata": {},
   "outputs": [
    {
     "data": {
      "image/png": "[encoded data removed]",
      "text/plain": [
       "<Figure size 432x288 with 1 Axes>"
      ]
     },
     "metadata": {
      "needs_background": "light"
     },
     "output_type": "display_data"
    }
   ],
   "source": [
    "bucket_counts = bucketed_df_udf.groupBy(\"Bucket\").count().toPandas().set_index(\"Bucket\")\n",
    "ax = bucket_counts.loc[[\"<=1KB\",\"1KB-1MB\",\"1-100MB\",\"0.5-1GB\",\">1GB\"]].plot(kind=\"bar\", rot=0)\n",
    "ax.set_title(\"Frequency of Response Sizes\");"
   ]
  },
  {
   "cell_type": "markdown",
   "metadata": {},
   "source": [
    "### Bucket Using Pandas UDF"
   ]
  },
  {
   "cell_type": "code",
   "execution_count": 160,
   "metadata": {},
   "outputs": [],
   "source": [
    "def batch_fn(iterator):\n",
    "    for pdf in iterator:\n",
    "        pdf['Bucket'] = pdf.Size.apply(bucket)\n",
    "        yield pdf"
   ]
  },
  {
   "cell_type": "code",
   "execution_count": 161,
   "metadata": {},
   "outputs": [
    {
     "name": "stdout",
     "output_type": "stream",
     "text": [
      "CPU times: user 8.85 ms, sys: 2.92 ms, total: 11.8 ms\n",
      "Wall time: 1.12 s\n"
     ]
    },
    {
     "data": {
      "text/plain": [
       "6084776"
      ]
     },
     "execution_count": 161,
     "metadata": {},
     "output_type": "execute_result"
    }
   ],
   "source": [
    "%%time\n",
    "bucketed_df = size.mapInPandas(batch_fn, schema=\"Size integer, Bucket string\")\n",
    "bucketed_df.count()"
   ]
  },
  {
   "cell_type": "code",
   "execution_count": 162,
   "metadata": {},
   "outputs": [
    {
     "data": {
      "image/png": "[encoded data removed]",
      "text/plain": [
       "<Figure size 432x288 with 1 Axes>"
      ]
     },
     "metadata": {
      "needs_background": "light"
     },
     "output_type": "display_data"
    }
   ],
   "source": [
    "bucket_counts = bucketed_df.groupBy(\"Bucket\").count().toPandas().set_index(\"Bucket\")\n",
    "ax = bucket_counts.loc[[\"<=1KB\",\"1KB-1MB\",\"1-100MB\",\"0.5-1GB\",\">1GB\"]].plot(kind=\"bar\", rot=0)\n",
    "ax.set_title(\"Frequency of Response Sizes\");"
   ]
  },
  {
   "cell_type": "markdown",
   "metadata": {},
   "source": [
    "# Analyze User-Agents"
   ]
  },
  {
   "cell_type": "code",
   "execution_count": 186,
   "metadata": {},
   "outputs": [],
   "source": [
    "ua_pattern = r'(.+?)/(\\S+)\\s?(\\(.+\\))?\\s?(.+)?'"
   ]
  },
  {
   "cell_type": "code",
   "execution_count": 188,
   "metadata": {},
   "outputs": [],
   "source": [
    "ua = extracted_df.select(F.regexp_extract(\"UserAgent\", ua_pattern, 1).alias(\"Browser\"),\n",
    "                         F.regexp_extract(\"UserAgent\", ua_pattern, 2).alias(\"Version\"),\n",
    "                         F.regexp_extract(\"UserAgent\", ua_pattern, 3).alias(\"PlatformInfo\"),\n",
    "                         F.regexp_extract(\"UserAgent\", ua_pattern, 4).alias(\"Info\")\n",
    "                        )"
   ]
  },
  {
   "cell_type": "code",
   "execution_count": 287,
   "metadata": {},
   "outputs": [
    {
     "data": {
      "image/png": "[encoded data removed]",
      "text/plain": [
       "<Figure size 1080x360 with 1 Axes>"
      ]
     },
     "metadata": {
      "needs_background": "light"
     },
     "output_type": "display_data"
    }
   ],
   "source": [
    "browser_counts = ua.groupBy(\"Browser\").count().orderBy(F.desc(\"count\")).limit(10).toPandas().set_index(\"Browser\")\n",
    "ax = browser_counts.plot(kind=\"bar\", rot=45, figsize=(15, 5), legend=False)\n",
    "ax.set_title(\"Top 10 Browsers used by visitors\");"
   ]
  },
  {
   "cell_type": "code",
   "execution_count": 282,
   "metadata": {},
   "outputs": [
    {
     "data": {
      "image/png": "[encoded data removed]",
      "text/plain": [
       "<Figure size 1080x360 with 1 Axes>"
      ]
     },
     "metadata": {
      "needs_background": "light"
     },
     "output_type": "display_data"
    }
   ],
   "source": [
    "browser_version_counts = ua.groupBy(\"Browser\", \"Version\").count().orderBy(F.desc(\"count\")).limit(10).toPandas()\n",
    "ax = browser_version_counts.plot(kind=\"bar\", figsize=(15, 5), legend=False)\n",
    "ax.set_xticklabels(browser_version_counts.Browser + \" \" + browser_version_counts.Version)\n",
    "ax.set_title(\"Top 10 Browsers with Version used by visitors\");"
   ]
  },
  {
   "cell_type": "code",
   "execution_count": 198,
   "metadata": {},
   "outputs": [
    {
     "name": "stdout",
     "output_type": "stream",
     "text": [
      "Summary of total and subtotal of Browsers with their versions used\n"
     ]
    },
    {
     "data": {
      "text/html": [
       "<div>\n",
       "<style scoped>\n",
       "    .dataframe tbody tr th:only-of-type {\n",
       "        vertical-align: middle;\n",
       "    }\n",
       "\n",
       "    .dataframe tbody tr th {\n",
       "        vertical-align: top;\n",
       "    }\n",
       "\n",
       "    .dataframe thead th {\n",
       "        text-align: right;\n",
       "    }\n",
       "</style>\n",
       "<table border=\"1\" class=\"dataframe\">\n",
       "  <thead>\n",
       "    <tr style=\"text-align: right;\">\n",
       "      <th></th>\n",
       "      <th>Browser</th>\n",
       "      <th>Version</th>\n",
       "      <th>count</th>\n",
       "    </tr>\n",
       "  </thead>\n",
       "  <tbody>\n",
       "    <tr>\n",
       "      <th>0</th>\n",
       "      <td>None</td>\n",
       "      <td>None</td>\n",
       "      <td>6097524</td>\n",
       "    </tr>\n",
       "    <tr>\n",
       "      <th>1</th>\n",
       "      <td>Mozilla</td>\n",
       "      <td>None</td>\n",
       "      <td>4806158</td>\n",
       "    </tr>\n",
       "    <tr>\n",
       "      <th>2</th>\n",
       "      <td>Mozilla</td>\n",
       "      <td>5.0</td>\n",
       "      <td>3733810</td>\n",
       "    </tr>\n",
       "    <tr>\n",
       "      <th>3</th>\n",
       "      <td>Mozilla</td>\n",
       "      <td>4.0</td>\n",
       "      <td>1045055</td>\n",
       "    </tr>\n",
       "    <tr>\n",
       "      <th>4</th>\n",
       "      <td></td>\n",
       "      <td></td>\n",
       "      <td>714311</td>\n",
       "    </tr>\n",
       "    <tr>\n",
       "      <th>5</th>\n",
       "      <td></td>\n",
       "      <td>None</td>\n",
       "      <td>714311</td>\n",
       "    </tr>\n",
       "    <tr>\n",
       "      <th>6</th>\n",
       "      <td>Python</td>\n",
       "      <td>None</td>\n",
       "      <td>221995</td>\n",
       "    </tr>\n",
       "    <tr>\n",
       "      <th>7</th>\n",
       "      <td>Python</td>\n",
       "      <td>3.7</td>\n",
       "      <td>221979</td>\n",
       "    </tr>\n",
       "    <tr>\n",
       "      <th>8</th>\n",
       "      <td>python-requests</td>\n",
       "      <td>None</td>\n",
       "      <td>120072</td>\n",
       "    </tr>\n",
       "    <tr>\n",
       "      <th>9</th>\n",
       "      <td>python-requests</td>\n",
       "      <td>2.22.0</td>\n",
       "      <td>93989</td>\n",
       "    </tr>\n",
       "  </tbody>\n",
       "</table>\n",
       "</div>"
      ],
      "text/plain": [
       "           Browser Version    count\n",
       "0             None    None  6097524\n",
       "1          Mozilla    None  4806158\n",
       "2          Mozilla     5.0  3733810\n",
       "3          Mozilla     4.0  1045055\n",
       "4                            714311\n",
       "5                     None   714311\n",
       "6           Python    None   221995\n",
       "7           Python     3.7   221979\n",
       "8  python-requests    None   120072\n",
       "9  python-requests  2.22.0    93989"
      ]
     },
     "execution_count": 198,
     "metadata": {},
     "output_type": "execute_result"
    }
   ],
   "source": [
    "print(\"Summary of total and subtotal of Browsers with their versions used\")\n",
    "ua.rollup(\"Browser\", \"Version\").count().orderBy(F.desc(\"count\")).limit(10).toPandas()"
   ]
  },
  {
   "cell_type": "code",
   "execution_count": 283,
   "metadata": {},
   "outputs": [
    {
     "data": {
      "image/png": "[encoded data removed]",
      "text/plain": [
       "<Figure size 1080x360 with 1 Axes>"
      ]
     },
     "metadata": {
      "needs_background": "light"
     },
     "output_type": "display_data"
    }
   ],
   "source": [
    "platform_counts = ua.groupBy(F.split(F.split(\"PlatformInfo\", \";\").getItem(0), \" \").getItem(0)\\\n",
    "                            .alias(\"Platform\")).count().orderBy(F.desc(\"count\")).limit(10).toPandas()\n",
    "platform_counts.Platform = platform_counts.Platform.str.strip(\"()\")\n",
    "platform_counts = platform_counts.set_index(\"Platform\")\n",
    "ax = platform_counts.plot(kind=\"bar\", rot=0, figsize=(15, 5), legend=False)\n",
    "ax.set_title(\"Top 10 Platforms used by visitors\");"
   ]
  },
  {
   "cell_type": "markdown",
   "metadata": {},
   "source": [
    "## Time-based Analysis"
   ]
  },
  {
   "cell_type": "code",
   "execution_count": 14,
   "metadata": {},
   "outputs": [],
   "source": [
    "import time"
   ]
  },
  {
   "cell_type": "code",
   "execution_count": 56,
   "metadata": {},
   "outputs": [],
   "source": []
  },
  {
   "cell_type": "markdown",
   "metadata": {},
   "source": [
    "## Don't forget to clean up"
   ]
  },
  {
   "cell_type": "code",
   "execution_count": null,
   "metadata": {},
   "outputs": [],
   "source": [
    "extracted_df.unpersist()\n",
    "spark.stop()"
   ]
  }
 ],
 "metadata": {
  "kernelspec": {
   "display_name": "Python 3",
   "language": "python",
   "name": "python3"
  },
  "language_info": {
   "codemirror_mode": {
    "name": "ipython",
    "version": 3
   },
   "file_extension": ".py",
   "mimetype": "text/x-python",
   "name": "python",
   "nbconvert_exporter": "python",
   "pygments_lexer": "ipython3",
   "version": "3.7.6"
  }
 },
 "nbformat": 4,
 "nbformat_minor": 4
}
