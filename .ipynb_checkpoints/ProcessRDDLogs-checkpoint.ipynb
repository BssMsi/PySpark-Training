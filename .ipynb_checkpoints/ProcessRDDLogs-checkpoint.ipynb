{
 "cells": [
  {
   "cell_type": "code",
   "execution_count": 1,
   "metadata": {},
   "outputs": [
    {
     "data": {
      "text/html": [
       "\n",
       "            <div>\n",
       "                <p><b>SparkSession - in-memory</b></p>\n",
       "                \n",
       "        <div>\n",
       "            <p><b>SparkContext</b></p>\n",
       "\n",
       "            <p><a href=\"http://ip-10-0-1-11.ec2.internal:4042\">Spark UI</a></p>\n",
       "\n",
       "            <dl>\n",
       "              <dt>Version</dt>\n",
       "                <dd><code>v3.0.0</code></dd>\n",
       "              <dt>Master</dt>\n",
       "                <dd><code>local[*]</code></dd>\n",
       "              <dt>AppName</dt>\n",
       "                <dd><code>Process RDD Logs</code></dd>\n",
       "            </dl>\n",
       "        </div>\n",
       "        \n",
       "            </div>\n",
       "        "
      ],
      "text/plain": [
       "<pyspark.sql.session.SparkSession at 0x7f12b4151110>"
      ]
     },
     "execution_count": 1,
     "metadata": {},
     "output_type": "execute_result"
    }
   ],
   "source": [
    "from pyspark.sql import SparkSession\n",
    "spark = SparkSession.builder.appName(\"Process RDD Logs\").getOrCreate()\n",
    "spark"
   ]
  },
  {
   "cell_type": "code",
   "execution_count": 2,
   "metadata": {},
   "outputs": [
    {
     "data": {
      "text/plain": [
       "32"
      ]
     },
     "execution_count": 2,
     "metadata": {},
     "output_type": "execute_result"
    }
   ],
   "source": [
    "import os\n",
    "os.cpu_count()"
   ]
  },
  {
   "cell_type": "markdown",
   "metadata": {},
   "source": [
    "# Apache Access Logs"
   ]
  },
  {
   "cell_type": "code",
   "execution_count": 3,
   "metadata": {},
   "outputs": [
    {
     "data": {
      "text/plain": [
       "38487"
      ]
     },
     "execution_count": 3,
     "metadata": {},
     "output_type": "execute_result"
    }
   ],
   "source": [
    "rdd_2004 = spark.sparkContext.textFile(\"data/linux_2004/log/httpd/access_log*\", 1)\n",
    "rdd_2004.count()"
   ]
  },
  {
   "cell_type": "code",
   "execution_count": 4,
   "metadata": {},
   "outputs": [
    {
     "data": {
      "text/plain": [
       "5936"
      ]
     },
     "execution_count": 4,
     "metadata": {},
     "output_type": "execute_result"
    }
   ],
   "source": [
    "rdd_2005 = spark.sparkContext.textFile(\"data/linux_2005/log/httpd/access_log*\", 1)\n",
    "rdd_2005.count()"
   ]
  },
  {
   "cell_type": "code",
   "execution_count": 5,
   "metadata": {},
   "outputs": [
    {
     "data": {
      "text/plain": [
       "36310"
      ]
     },
     "execution_count": 5,
     "metadata": {},
     "output_type": "execute_result"
    }
   ],
   "source": [
    "rdd_2006 = spark.sparkContext.textFile(\"data/linux_2006/log/httpd/access_log*\", 1)\n",
    "rdd_2006.count()"
   ]
  },
  {
   "cell_type": "code",
   "execution_count": 6,
   "metadata": {},
   "outputs": [
    {
     "data": {
      "text/plain": [
       "6016792"
      ]
     },
     "execution_count": 6,
     "metadata": {},
     "output_type": "execute_result"
    }
   ],
   "source": [
    "rdd_access = spark.sparkContext.textFile(\"data/apache/access.log\")\n",
    "rdd_access.count()"
   ]
  },
  {
   "cell_type": "markdown",
   "metadata": {},
   "source": [
    "## Combine into single DataFrame"
   ]
  },
  {
   "cell_type": "code",
   "execution_count": 7,
   "metadata": {},
   "outputs": [
    {
     "data": {
      "text/plain": [
       "6097525"
      ]
     },
     "execution_count": 7,
     "metadata": {},
     "output_type": "execute_result"
    }
   ],
   "source": [
    "rdd = spark.sparkContext.union([rdd_access, rdd_2004, rdd_2005, rdd_2006])\n",
    "total = rdd.count()\n",
    "total"
   ]
  },
  {
   "cell_type": "code",
   "execution_count": 8,
   "metadata": {},
   "outputs": [
    {
     "data": {
      "text/plain": [
       "108"
      ]
     },
     "execution_count": 8,
     "metadata": {},
     "output_type": "execute_result"
    }
   ],
   "source": [
    "rdd.getNumPartitions()"
   ]
  },
  {
   "cell_type": "markdown",
   "metadata": {},
   "source": [
    "# EDA"
   ]
  },
  {
   "cell_type": "code",
   "execution_count": 11,
   "metadata": {},
   "outputs": [
    {
     "data": {
      "text/plain": [
       "4256761"
      ]
     },
     "execution_count": 11,
     "metadata": {},
     "output_type": "execute_result"
    }
   ],
   "source": [
    "rdd_distinct = rdd.distinct()\n",
    "total_distinct = rdd_distinct.count()\n",
    "total_distinct"
   ]
  },
  {
   "cell_type": "code",
   "execution_count": 16,
   "metadata": {},
   "outputs": [
    {
     "name": "stdout",
     "output_type": "stream",
     "text": [
      "15\n"
     ]
    }
   ],
   "source": [
    "sample_rdd = rdd.sample(False, fraction=10/total)\n",
    "print(sample_rdd.count())"
   ]
  },
  {
   "cell_type": "code",
   "execution_count": 21,
   "metadata": {},
   "outputs": [],
   "source": [
    "sample = sample_rdd.collect()"
   ]
  },
  {
   "cell_type": "markdown",
   "metadata": {},
   "source": [
    "## Using Regular Expressions for extracting the fields of the log as columns"
   ]
  },
  {
   "cell_type": "code",
   "execution_count": 24,
   "metadata": {},
   "outputs": [],
   "source": [
    "import re\n",
    "from pyspark.sql import functions as F, types as T"
   ]
  },
  {
   "cell_type": "code",
   "execution_count": 19,
   "metadata": {},
   "outputs": [],
   "source": [
    "log_fields = ('IP', 'UserIdentity', 'Username', 'Timestamp', 'Request', 'StatusCode', \n",
    "              'Size(bytes)', 'Referrer', 'UserAgent', 'Unknown')\n",
    "pattern = r'(.+) (.+) (.+) \\[(.+)\\] \"(.+)\" (\\d+) (\\d+) \"(.+?)\" \"(.+?)\" ?(\".+\")?'"
   ]
  },
  {
   "cell_type": "markdown",
   "metadata": {},
   "source": [
    "#### Some re pattern explanations\n",
    "<pre>\n",
    "(.+?) - non-greedy matching\n",
    "(\".+\")? - optional group\n",
    "</pre>"
   ]
  },
  {
   "cell_type": "markdown",
   "metadata": {},
   "source": [
    "### Try using sample"
   ]
  },
  {
   "cell_type": "code",
   "execution_count": 43,
   "metadata": {},
   "outputs": [],
   "source": [
    "def extract(string):\n",
    "    matched = re.match(pattern, string)\n",
    "    if matched:\n",
    "        return matched.groups()\n",
    "    return ('')*len(log_fields)"
   ]
  },
  {
   "cell_type": "code",
   "execution_count": 44,
   "metadata": {},
   "outputs": [
    {
     "data": {
      "text/plain": [
       "['128.72.153.89 - - [18/Feb/2016:20:37:00 +0100] \"POST /administrator/index.php HTTP/1.1\" 200 4494 \"http://almhuette-raith.at/administrator/\" \"Mozilla/5.0 (Windows NT 5.1) AppleWebKit/537.36 (KHTML, like Gecko) Chrome/46.0.2490.71 Safari/537.36\" \"-\"',\n",
       " '193.186.225.253 - - [04/Oct/2016:11:36:21 +0200] \"GET /templates/_system/css/general.css HTTP/1.1\" 404 239 \"http://www.almhuette-raith.at/\" \"Mozilla/5.0 (Windows NT 6.3; WOW64; Trident/7.0; Touch; rv:11.0) like Gecko\" \"-\"',\n",
       " '185.190.150.10 - - [21/Feb/2018:13:09:55 +0100] \"GET /favicon.ico HTTP/1.1\" 404 217 \"http://www.almhuette-raith.at/apache-log/access.log\" \"Mozilla/5.0 (Windows NT 10.0; Win64; x64) AppleWebKit/537.36 (KHTML, like Gecko) Chrome/64.0.3282.140 Safari/537.36 OPR/51.0.2830.34\" \"-\"',\n",
       " '5.112.66.178 - - [21/Jun/2018:17:01:04 +0200] \"GET /apache-log/access.log HTTP/1.1\" 206 43192 \"http://www.almhuette-raith.at/apache-log/\" \"Mozilla/5.0 (Windows NT 6.1; Trident/7.0; rv:11.0) like Gecko\" \"-\"',\n",
       " '79.62.229.212 - - [23/Jun/2018:01:47:33 +0200] \"GET /images/stories/back.sfish HTTP/1.1\" 404 231 \"http://almhuette-raith.at/\" \"Mozilla/5.0 SF/2.10b\" \"-\"',\n",
       " '27.123.249.172 - - [24/Aug/2018:19:07:14 +0200] \"GET /apache-log/access.log HTTP/1.1\" 206 33904 \"http://www.almhuette-raith.at/apache-log/\" \"Mozilla/4.0 (compatible; MSIE 8.0; Windows NT 6.0; Trident/4.0)\" \"-\"',\n",
       " '192.151.196.66 - - [09/Nov/2018:13:38:39 +0100] \"GET /apache-log/access.log HTTP/1.1\" 200 3334668 \"http://www.almhuette-raith.at/\" \"Mozilla/5.0 (Windows NT 6.1; WOW64) AppleWebKit/537.36 (KHTML, like Gecko) Chrome/66.0.3359.170 Safari/537.36 OPR/53.0.2907.57 (Edition Yx)\" \"-\"',\n",
       " '193.106.31.130 - - [20/May/2019:08:35:43 +0200] \"POST /administrator/index.php HTTP/1.0\" 200 4481 \"-\" \"Mozilla/4.0 (compatible; MSIE 7.0; Windows NT 6.0)\" \"-\"',\n",
       " '13.84.43.203 - - [04/Nov/2019:23:21:48 +0100] \"GET //administrator/index.php HTTP/1.1\" 200 4270 \"-\" \"Mozilla/5.0 (Windows NT 10.0; Win64; x64; rv:65.0) Gecko/20100101 Firefox/65.0\" \"-\"',\n",
       " '13.84.43.203 - - [05/Nov/2019:14:04:28 +0100] \"GET //administrator/index.php?option=com_plugins HTTP/1.1\" 200 4270 \"-\" \"Mozilla/5.0 (Windows NT 10.0; Win64; x64; rv:65.0) Gecko/20100101 Firefox/65.0\" \"-\"',\n",
       " '13.84.43.203 - - [06/Nov/2019:06:17:17 +0100] \"POST //administrator/index.php HTTP/1.1\" 200 4501 \"-\" \"Mozilla/5.0 (Windows NT 10.0; Win64; x64; rv:65.0) Gecko/20100101 Firefox/65.0\" \"-\"',\n",
       " '185.163.47.218 - - [01/Dec/2019:20:51:51 +0100] \"GET /index.php?option=com_contact&view=contact&id=1 HTTP/1.1\" 200 9873 \"-\" \"-\" \"-\"',\n",
       " '193.106.31.130 - - [11/Apr/2020:18:41:02 +0200] \"POST /administrator/index.php HTTP/1.0\" 200 4481 \"-\" \"Mozilla/4.0 (compatible; MSIE 7.0; Windows NT 6.0)\" \"-\"',\n",
       " '193.106.31.130 - - [14/Apr/2020:21:50:21 +0200] \"POST /administrator/index.php HTTP/1.0\" 200 4481 \"-\" \"Mozilla/4.0 (compatible; MSIE 7.0; Windows NT 6.0)\" \"-\"',\n",
       " '45.133.223.120 - - [08/Aug/2020:23:03:08 +0200] \"POST /index.php?option=com_contact&view=contact&id=1 HTTP/1.1\" 303 5 \"-\" \"-\" \"-\"']"
      ]
     },
     "execution_count": 44,
     "metadata": {},
     "output_type": "execute_result"
    }
   ],
   "source": [
    "sample"
   ]
  },
  {
   "cell_type": "code",
   "execution_count": 45,
   "metadata": {},
   "outputs": [
    {
     "name": "stdout",
     "output_type": "stream",
     "text": [
      "('128.72.153.89', '-', '-', '18/Feb/2016:20:37:00 +0100', 'POST /administrator/index.php HTTP/1.1', '200', '4494', 'http://almhuette-raith.at/administrator/', 'Mozilla/5.0 (Windows NT 5.1) AppleWebKit/537.36 (KHTML, like Gecko) Chrome/46.0.2490.71 Safari/537.36', '\"-\"') 10\n",
      "('193.186.225.253', '-', '-', '04/Oct/2016:11:36:21 +0200', 'GET /templates/_system/css/general.css HTTP/1.1', '404', '239', 'http://www.almhuette-raith.at/', 'Mozilla/5.0 (Windows NT 6.3; WOW64; Trident/7.0; Touch; rv:11.0) like Gecko', '\"-\"') 10\n",
      "('185.190.150.10', '-', '-', '21/Feb/2018:13:09:55 +0100', 'GET /favicon.ico HTTP/1.1', '404', '217', 'http://www.almhuette-raith.at/apache-log/access.log', 'Mozilla/5.0 (Windows NT 10.0; Win64; x64) AppleWebKit/537.36 (KHTML, like Gecko) Chrome/64.0.3282.140 Safari/537.36 OPR/51.0.2830.34', '\"-\"') 10\n",
      "('5.112.66.178', '-', '-', '21/Jun/2018:17:01:04 +0200', 'GET /apache-log/access.log HTTP/1.1', '206', '43192', 'http://www.almhuette-raith.at/apache-log/', 'Mozilla/5.0 (Windows NT 6.1; Trident/7.0; rv:11.0) like Gecko', '\"-\"') 10\n",
      "('79.62.229.212', '-', '-', '23/Jun/2018:01:47:33 +0200', 'GET /images/stories/back.sfish HTTP/1.1', '404', '231', 'http://almhuette-raith.at/', 'Mozilla/5.0 SF/2.10b', '\"-\"') 10\n",
      "('27.123.249.172', '-', '-', '24/Aug/2018:19:07:14 +0200', 'GET /apache-log/access.log HTTP/1.1', '206', '33904', 'http://www.almhuette-raith.at/apache-log/', 'Mozilla/4.0 (compatible; MSIE 8.0; Windows NT 6.0; Trident/4.0)', '\"-\"') 10\n",
      "('192.151.196.66', '-', '-', '09/Nov/2018:13:38:39 +0100', 'GET /apache-log/access.log HTTP/1.1', '200', '3334668', 'http://www.almhuette-raith.at/', 'Mozilla/5.0 (Windows NT 6.1; WOW64) AppleWebKit/537.36 (KHTML, like Gecko) Chrome/66.0.3359.170 Safari/537.36 OPR/53.0.2907.57 (Edition Yx)', '\"-\"') 10\n",
      "('193.106.31.130', '-', '-', '20/May/2019:08:35:43 +0200', 'POST /administrator/index.php HTTP/1.0', '200', '4481', '-', 'Mozilla/4.0 (compatible; MSIE 7.0; Windows NT 6.0)', '\"-\"') 10\n",
      "('13.84.43.203', '-', '-', '04/Nov/2019:23:21:48 +0100', 'GET //administrator/index.php HTTP/1.1', '200', '4270', '-', 'Mozilla/5.0 (Windows NT 10.0; Win64; x64; rv:65.0) Gecko/20100101 Firefox/65.0', '\"-\"') 10\n",
      "('13.84.43.203', '-', '-', '05/Nov/2019:14:04:28 +0100', 'GET //administrator/index.php?option=com_plugins HTTP/1.1', '200', '4270', '-', 'Mozilla/5.0 (Windows NT 10.0; Win64; x64; rv:65.0) Gecko/20100101 Firefox/65.0', '\"-\"') 10\n",
      "('13.84.43.203', '-', '-', '06/Nov/2019:06:17:17 +0100', 'POST //administrator/index.php HTTP/1.1', '200', '4501', '-', 'Mozilla/5.0 (Windows NT 10.0; Win64; x64; rv:65.0) Gecko/20100101 Firefox/65.0', '\"-\"') 10\n",
      "('185.163.47.218', '-', '-', '01/Dec/2019:20:51:51 +0100', 'GET /index.php?option=com_contact&view=contact&id=1 HTTP/1.1', '200', '9873', '-', '-', '\"-\"') 10\n",
      "('193.106.31.130', '-', '-', '11/Apr/2020:18:41:02 +0200', 'POST /administrator/index.php HTTP/1.0', '200', '4481', '-', 'Mozilla/4.0 (compatible; MSIE 7.0; Windows NT 6.0)', '\"-\"') 10\n",
      "('193.106.31.130', '-', '-', '14/Apr/2020:21:50:21 +0200', 'POST /administrator/index.php HTTP/1.0', '200', '4481', '-', 'Mozilla/4.0 (compatible; MSIE 7.0; Windows NT 6.0)', '\"-\"') 10\n",
      "('45.133.223.120', '-', '-', '08/Aug/2020:23:03:08 +0200', 'POST /index.php?option=com_contact&view=contact&id=1 HTTP/1.1', '303', '5', '-', '-', '\"-\"') 10\n"
     ]
    }
   ],
   "source": [
    "[print(row, len(row)) for row in map(extract, sample)];"
   ]
  },
  {
   "cell_type": "markdown",
   "metadata": {},
   "source": [
    "## Using map transformation in RDD"
   ]
  },
  {
   "cell_type": "code",
   "execution_count": 46,
   "metadata": {},
   "outputs": [
    {
     "name": "stdout",
     "output_type": "stream",
     "text": [
      "CPU times: user 15.2 ms, sys: 1.81 ms, total: 17 ms\n",
      "Wall time: 1min 5s\n"
     ]
    },
    {
     "data": {
      "text/plain": [
       "6097525"
      ]
     },
     "execution_count": 46,
     "metadata": {},
     "output_type": "execute_result"
    }
   ],
   "source": [
    "%%time\n",
    "matched_rdd = rdd.map(extract)\n",
    "matched_rdd.count()"
   ]
  },
  {
   "cell_type": "code",
   "execution_count": 52,
   "metadata": {},
   "outputs": [
    {
     "name": "stdout",
     "output_type": "stream",
     "text": [
      "CPU times: user 14.4 ms, sys: 2.39 ms, total: 16.8 ms\n",
      "Wall time: 1min 4s\n"
     ]
    },
    {
     "data": {
      "text/plain": [
       "6084776"
      ]
     },
     "execution_count": 52,
     "metadata": {},
     "output_type": "execute_result"
    }
   ],
   "source": [
    "%%time\n",
    "filtered_rdd = matched_rdd.filter(lambda row: row is not ('')*len(log_fields))\n",
    "filtered_rdd.count()"
   ]
  },
  {
   "cell_type": "code",
   "execution_count": 51,
   "metadata": {},
   "outputs": [
    {
     "data": {
      "text/plain": [
       "True"
      ]
     },
     "execution_count": 51,
     "metadata": {},
     "output_type": "execute_result"
    }
   ],
   "source": [
    "x = ('')*10\n",
    "x == ('')*10"
   ]
  },
  {
   "cell_type": "code",
   "execution_count": null,
   "metadata": {},
   "outputs": [],
   "source": [
    "print(\"We can see that {-} rows were not successfully matched\")"
   ]
  },
  {
   "cell_type": "code",
   "execution_count": 48,
   "metadata": {},
   "outputs": [
    {
     "data": {
      "text/plain": [
       "['',\n",
       " ('109.169.248.247',\n",
       "  '-',\n",
       "  '-',\n",
       "  '12/Dec/2015:18:25:11 +0100',\n",
       "  'GET /administrator/ HTTP/1.1',\n",
       "  '200',\n",
       "  '4263',\n",
       "  '-',\n",
       "  'Mozilla/5.0 (Windows NT 6.0; rv:34.0) Gecko/20100101 Firefox/34.0',\n",
       "  '\"-\"'),\n",
       " ('109.169.248.247',\n",
       "  '-',\n",
       "  '-',\n",
       "  '12/Dec/2015:18:25:11 +0100',\n",
       "  'POST /administrator/index.php HTTP/1.1',\n",
       "  '200',\n",
       "  '4494',\n",
       "  'http://almhuette-raith.at/administrator/',\n",
       "  'Mozilla/5.0 (Windows NT 6.0; rv:34.0) Gecko/20100101 Firefox/34.0',\n",
       "  '\"-\"')]"
      ]
     },
     "execution_count": 48,
     "metadata": {},
     "output_type": "execute_result"
    }
   ],
   "source": [
    "matched_rdd.take(3)"
   ]
  },
  {
   "cell_type": "markdown",
   "metadata": {},
   "source": [
    "## Using DataFrames\n",
    "### Using regexp_extract function"
   ]
  },
  {
   "cell_type": "code",
   "execution_count": 49,
   "metadata": {},
   "outputs": [
    {
     "data": {
      "text/plain": [
       "['',\n",
       " '109.169.248.247 - - [12/Dec/2015:18:25:11 +0100] \"GET /administrator/ HTTP/1.1\" 200 4263 \"-\" \"Mozilla/5.0 (Windows NT 6.0; rv:34.0) Gecko/20100101 Firefox/34.0\" \"-\"',\n",
       " '109.169.248.247 - - [12/Dec/2015:18:25:11 +0100] \"POST /administrator/index.php HTTP/1.1\" 200 4494 \"http://almhuette-raith.at/administrator/\" \"Mozilla/5.0 (Windows NT 6.0; rv:34.0) Gecko/20100101 Firefox/34.0\" \"-\"']"
      ]
     },
     "execution_count": 49,
     "metadata": {},
     "output_type": "execute_result"
    }
   ],
   "source": [
    "rdd.take(3)"
   ]
  },
  {
   "cell_type": "code",
   "execution_count": 41,
   "metadata": {},
   "outputs": [
    {
     "ename": "ValueError",
     "evalue": "The first row in RDD is empty, can not infer schema",
     "output_type": "error",
     "traceback": [
      "\u001b[0;31m---------------------------------------------------------------------------\u001b[0m",
      "\u001b[0;31mValueError\u001b[0m                                Traceback (most recent call last)",
      "\u001b[0;32m<timed exec>\u001b[0m in \u001b[0;36m<module>\u001b[0;34m\u001b[0m\n",
      "\u001b[0;32m/opt/anaconda3/lib/python3.7/site-packages/pyspark/sql/session.py\u001b[0m in \u001b[0;36mcreateDataFrame\u001b[0;34m(self, data, schema, samplingRatio, verifySchema)\u001b[0m\n\u001b[1;32m    600\u001b[0m             return super(SparkSession, self).createDataFrame(\n\u001b[1;32m    601\u001b[0m                 data, schema, samplingRatio, verifySchema)\n\u001b[0;32m--> 602\u001b[0;31m         \u001b[0;32mreturn\u001b[0m \u001b[0mself\u001b[0m\u001b[0;34m.\u001b[0m\u001b[0m_create_dataframe\u001b[0m\u001b[0;34m(\u001b[0m\u001b[0mdata\u001b[0m\u001b[0;34m,\u001b[0m \u001b[0mschema\u001b[0m\u001b[0;34m,\u001b[0m \u001b[0msamplingRatio\u001b[0m\u001b[0;34m,\u001b[0m \u001b[0mverifySchema\u001b[0m\u001b[0;34m)\u001b[0m\u001b[0;34m\u001b[0m\u001b[0;34m\u001b[0m\u001b[0m\n\u001b[0m\u001b[1;32m    603\u001b[0m \u001b[0;34m\u001b[0m\u001b[0m\n\u001b[1;32m    604\u001b[0m     \u001b[0;32mdef\u001b[0m \u001b[0m_create_dataframe\u001b[0m\u001b[0;34m(\u001b[0m\u001b[0mself\u001b[0m\u001b[0;34m,\u001b[0m \u001b[0mdata\u001b[0m\u001b[0;34m,\u001b[0m \u001b[0mschema\u001b[0m\u001b[0;34m,\u001b[0m \u001b[0msamplingRatio\u001b[0m\u001b[0;34m,\u001b[0m \u001b[0mverifySchema\u001b[0m\u001b[0;34m)\u001b[0m\u001b[0;34m:\u001b[0m\u001b[0;34m\u001b[0m\u001b[0;34m\u001b[0m\u001b[0m\n",
      "\u001b[0;32m/opt/anaconda3/lib/python3.7/site-packages/pyspark/sql/session.py\u001b[0m in \u001b[0;36m_create_dataframe\u001b[0;34m(self, data, schema, samplingRatio, verifySchema)\u001b[0m\n\u001b[1;32m    623\u001b[0m \u001b[0;34m\u001b[0m\u001b[0m\n\u001b[1;32m    624\u001b[0m         \u001b[0;32mif\u001b[0m \u001b[0misinstance\u001b[0m\u001b[0;34m(\u001b[0m\u001b[0mdata\u001b[0m\u001b[0;34m,\u001b[0m \u001b[0mRDD\u001b[0m\u001b[0;34m)\u001b[0m\u001b[0;34m:\u001b[0m\u001b[0;34m\u001b[0m\u001b[0;34m\u001b[0m\u001b[0m\n\u001b[0;32m--> 625\u001b[0;31m             \u001b[0mrdd\u001b[0m\u001b[0;34m,\u001b[0m \u001b[0mschema\u001b[0m \u001b[0;34m=\u001b[0m \u001b[0mself\u001b[0m\u001b[0;34m.\u001b[0m\u001b[0m_createFromRDD\u001b[0m\u001b[0;34m(\u001b[0m\u001b[0mdata\u001b[0m\u001b[0;34m.\u001b[0m\u001b[0mmap\u001b[0m\u001b[0;34m(\u001b[0m\u001b[0mprepare\u001b[0m\u001b[0;34m)\u001b[0m\u001b[0;34m,\u001b[0m \u001b[0mschema\u001b[0m\u001b[0;34m,\u001b[0m \u001b[0msamplingRatio\u001b[0m\u001b[0;34m)\u001b[0m\u001b[0;34m\u001b[0m\u001b[0;34m\u001b[0m\u001b[0m\n\u001b[0m\u001b[1;32m    626\u001b[0m         \u001b[0;32melse\u001b[0m\u001b[0;34m:\u001b[0m\u001b[0;34m\u001b[0m\u001b[0;34m\u001b[0m\u001b[0m\n\u001b[1;32m    627\u001b[0m             \u001b[0mrdd\u001b[0m\u001b[0;34m,\u001b[0m \u001b[0mschema\u001b[0m \u001b[0;34m=\u001b[0m \u001b[0mself\u001b[0m\u001b[0;34m.\u001b[0m\u001b[0m_createFromLocal\u001b[0m\u001b[0;34m(\u001b[0m\u001b[0mmap\u001b[0m\u001b[0;34m(\u001b[0m\u001b[0mprepare\u001b[0m\u001b[0;34m,\u001b[0m \u001b[0mdata\u001b[0m\u001b[0;34m)\u001b[0m\u001b[0;34m,\u001b[0m \u001b[0mschema\u001b[0m\u001b[0;34m)\u001b[0m\u001b[0;34m\u001b[0m\u001b[0;34m\u001b[0m\u001b[0m\n",
      "\u001b[0;32m/opt/anaconda3/lib/python3.7/site-packages/pyspark/sql/session.py\u001b[0m in \u001b[0;36m_createFromRDD\u001b[0;34m(self, rdd, schema, samplingRatio)\u001b[0m\n\u001b[1;32m    420\u001b[0m         \"\"\"\n\u001b[1;32m    421\u001b[0m         \u001b[0;32mif\u001b[0m \u001b[0mschema\u001b[0m \u001b[0;32mis\u001b[0m \u001b[0;32mNone\u001b[0m \u001b[0;32mor\u001b[0m \u001b[0misinstance\u001b[0m\u001b[0;34m(\u001b[0m\u001b[0mschema\u001b[0m\u001b[0;34m,\u001b[0m \u001b[0;34m(\u001b[0m\u001b[0mlist\u001b[0m\u001b[0;34m,\u001b[0m \u001b[0mtuple\u001b[0m\u001b[0;34m)\u001b[0m\u001b[0;34m)\u001b[0m\u001b[0;34m:\u001b[0m\u001b[0;34m\u001b[0m\u001b[0;34m\u001b[0m\u001b[0m\n\u001b[0;32m--> 422\u001b[0;31m             \u001b[0mstruct\u001b[0m \u001b[0;34m=\u001b[0m \u001b[0mself\u001b[0m\u001b[0;34m.\u001b[0m\u001b[0m_inferSchema\u001b[0m\u001b[0;34m(\u001b[0m\u001b[0mrdd\u001b[0m\u001b[0;34m,\u001b[0m \u001b[0msamplingRatio\u001b[0m\u001b[0;34m,\u001b[0m \u001b[0mnames\u001b[0m\u001b[0;34m=\u001b[0m\u001b[0mschema\u001b[0m\u001b[0;34m)\u001b[0m\u001b[0;34m\u001b[0m\u001b[0;34m\u001b[0m\u001b[0m\n\u001b[0m\u001b[1;32m    423\u001b[0m             \u001b[0mconverter\u001b[0m \u001b[0;34m=\u001b[0m \u001b[0m_create_converter\u001b[0m\u001b[0;34m(\u001b[0m\u001b[0mstruct\u001b[0m\u001b[0;34m)\u001b[0m\u001b[0;34m\u001b[0m\u001b[0;34m\u001b[0m\u001b[0m\n\u001b[1;32m    424\u001b[0m             \u001b[0mrdd\u001b[0m \u001b[0;34m=\u001b[0m \u001b[0mrdd\u001b[0m\u001b[0;34m.\u001b[0m\u001b[0mmap\u001b[0m\u001b[0;34m(\u001b[0m\u001b[0mconverter\u001b[0m\u001b[0;34m)\u001b[0m\u001b[0;34m\u001b[0m\u001b[0;34m\u001b[0m\u001b[0m\n",
      "\u001b[0;32m/opt/anaconda3/lib/python3.7/site-packages/pyspark/sql/session.py\u001b[0m in \u001b[0;36m_inferSchema\u001b[0;34m(self, rdd, samplingRatio, names)\u001b[0m\n\u001b[1;32m    393\u001b[0m         \u001b[0mfirst\u001b[0m \u001b[0;34m=\u001b[0m \u001b[0mrdd\u001b[0m\u001b[0;34m.\u001b[0m\u001b[0mfirst\u001b[0m\u001b[0;34m(\u001b[0m\u001b[0;34m)\u001b[0m\u001b[0;34m\u001b[0m\u001b[0;34m\u001b[0m\u001b[0m\n\u001b[1;32m    394\u001b[0m         \u001b[0;32mif\u001b[0m \u001b[0;32mnot\u001b[0m \u001b[0mfirst\u001b[0m\u001b[0;34m:\u001b[0m\u001b[0;34m\u001b[0m\u001b[0;34m\u001b[0m\u001b[0m\n\u001b[0;32m--> 395\u001b[0;31m             raise ValueError(\"The first row in RDD is empty, \"\n\u001b[0m\u001b[1;32m    396\u001b[0m                              \"can not infer schema\")\n\u001b[1;32m    397\u001b[0m         \u001b[0;32mif\u001b[0m \u001b[0mtype\u001b[0m\u001b[0;34m(\u001b[0m\u001b[0mfirst\u001b[0m\u001b[0;34m)\u001b[0m \u001b[0;32mis\u001b[0m \u001b[0mdict\u001b[0m\u001b[0;34m:\u001b[0m\u001b[0;34m\u001b[0m\u001b[0;34m\u001b[0m\u001b[0m\n",
      "\u001b[0;31mValueError\u001b[0m: The first row in RDD is empty, can not infer schema"
     ]
    }
   ],
   "source": [
    "%%time\n",
    "raw_df = rdd.toDF()"
   ]
  },
  {
   "cell_type": "code",
   "execution_count": 26,
   "metadata": {},
   "outputs": [
    {
     "ename": "NameError",
     "evalue": "name 'raw_df' is not defined",
     "output_type": "error",
     "traceback": [
      "\u001b[0;31m---------------------------------------------------------------------------\u001b[0m",
      "\u001b[0;31mNameError\u001b[0m                                 Traceback (most recent call last)",
      "\u001b[0;32m<timed exec>\u001b[0m in \u001b[0;36m<module>\u001b[0;34m\u001b[0m\n",
      "\u001b[0;31mNameError\u001b[0m: name 'raw_df' is not defined"
     ]
    }
   ],
   "source": [
    "%%time\n",
    "extracted_df = raw_df.select(*[F.regexp_extract(\"value\", pattern, idx).alias(colname) \n",
    "                               for idx, colname in zip(range(1,11), log_format)])\n",
    "print(extracted_df.count())\n",
    "extracted_df.limit(5).toPandas()"
   ]
  },
  {
   "cell_type": "code",
   "execution_count": null,
   "metadata": {},
   "outputs": [],
   "source": []
  },
  {
   "cell_type": "code",
   "execution_count": 177,
   "metadata": {},
   "outputs": [
    {
     "name": "stdout",
     "output_type": "stream",
     "text": [
      "6097525\n",
      "+---------------+------------+--------+---------+--------------------+----------+-----------+--------------------+--------------------+-------+\n",
      "|             IP|UserIdentity|Username|Timestamp|             Request|StatusCode|Size(bytes)|            Referrer|           UserAgent|Unknown|\n",
      "+---------------+------------+--------+---------+--------------------+----------+-----------+--------------------+--------------------+-------+\n",
      "|               |            |        |     null|                    |      null|       null|                    |                    |       |\n",
      "|109.169.248.247|           -|       -|     null|GET /administrato...|       200|       4263|                   -|Mozilla/5.0 (Wind...|    \"-\"|\n",
      "|109.169.248.247|           -|       -|     null|POST /administrat...|       200|       4494|http://almhuette-...|Mozilla/5.0 (Wind...|    \"-\"|\n",
      "|    46.72.177.4|           -|       -|     null|GET /administrato...|       200|       4263|                   -|Mozilla/5.0 (Wind...|    \"-\"|\n",
      "|    46.72.177.4|           -|       -|     null|POST /administrat...|       200|       4494|http://almhuette-...|Mozilla/5.0 (Wind...|    \"-\"|\n",
      "+---------------+------------+--------+---------+--------------------+----------+-----------+--------------------+--------------------+-------+\n",
      "only showing top 5 rows\n",
      "\n",
      "CPU times: user 6.91 ms, sys: 186 µs, total: 7.1 ms\n",
      "Wall time: 531 ms\n"
     ]
    }
   ],
   "source": [
    "%%time\n",
    "extracted_df = raw_df.select(F.regexp_extract(\"value\", pattern, 1).alias('IP'),\n",
    "                             F.regexp_extract(\"value\", pattern, 2).alias('UserIdentity'),\n",
    "                             F.regexp_extract(\"value\", pattern, 3).alias('Username'),\n",
    "                             F.to_timestamp(regexp_extract(\"value\", pattern, 4),\n",
    "                                            '%d/%b/%Y:%H:%M:%S %z').alias('Timestamp'),\n",
    "                             F.regexp_extract(\"value\", pattern, 5).alias('Request'),\n",
    "                             F.regexp_extract(\"value\", pattern, 6).cast(\"integer\").alias('StatusCode'),\n",
    "                             F.regexp_extract(\"value\", pattern, 7).cast(\"integer\").alias('Size(bytes)'),\n",
    "                             F.regexp_extract(\"value\", pattern, 8).alias('Referrer'),\n",
    "                             F.regexp_extract(\"value\", pattern, 9).alias('UserAgent'),\n",
    "                             F.regexp_extract(\"value\", pattern, 10).alias('Unknown')\n",
    "                             )\n",
    "print(extracted_df.count())\n",
    "extracted_df.show(5)"
   ]
  },
  {
   "cell_type": "code",
   "execution_count": null,
   "metadata": {},
   "outputs": [],
   "source": []
  },
  {
   "cell_type": "markdown",
   "metadata": {},
   "source": [
    "### Extract remote hostname/ip"
   ]
  },
  {
   "cell_type": "code",
   "execution_count": 12,
   "metadata": {},
   "outputs": [
    {
     "data": {
      "text/plain": [
       "['198.50.156.189',\n",
       " '198.50.156.189',\n",
       " '158.69.225.36',\n",
       " '5.114.64.184',\n",
       " '213.137.37.58',\n",
       " '13.84.43.203',\n",
       " '84.115.26.129',\n",
       " '5.112.125.111']"
      ]
     },
     "execution_count": 12,
     "metadata": {},
     "output_type": "execute_result"
    }
   ],
   "source": [
    "host_pattern = r'(^\\S+\\.[\\S+\\.]+\\S+)\\s'\n",
    "hosts = []\n",
    "for row in sample:\n",
    "    hostname = None\n",
    "    m = re.match(host_pattern, row)\n",
    "    if m:\n",
    "        hostname = m.group(1)\n",
    "    hosts.append(hostname)\n",
    "hosts"
   ]
  },
  {
   "cell_type": "markdown",
   "metadata": {},
   "source": [
    "#### Check"
   ]
  },
  {
   "cell_type": "code",
   "execution_count": 13,
   "metadata": {},
   "outputs": [
    {
     "name": "stdout",
     "output_type": "stream",
     "text": [
      "Good to go\n"
     ]
    }
   ],
   "source": [
    "diff = total - df.select(regexp_extract('value', host_pattern, 1)).count()\n",
    "if diff:\n",
    "    print(f\"{diff} rows did not match, need to work on the Regex pattern\")\n",
    "else:\n",
    "    print(\"Good to go\")"
   ]
  },
  {
   "cell_type": "markdown",
   "metadata": {},
   "source": [
    "### Extract timestamp"
   ]
  },
  {
   "cell_type": "code",
   "execution_count": 14,
   "metadata": {},
   "outputs": [],
   "source": [
    "import time"
   ]
  },
  {
   "cell_type": "code",
   "execution_count": 15,
   "metadata": {},
   "outputs": [
    {
     "data": {
      "text/plain": [
       "['01/Apr/2017:18:38:47 +0200',\n",
       " '01/Apr/2017:19:30:00 +0200',\n",
       " '21/Jan/2018:15:06:03 +0100',\n",
       " '27/Jun/2018:12:06:49 +0200',\n",
       " '08/Jan/2019:16:49:55 +0100',\n",
       " '05/Nov/2019:11:00:11 +0100',\n",
       " '23/Mar/2020:08:56:01 +0100',\n",
       " '30/Apr/2020:23:44:42 +0200']"
      ]
     },
     "execution_count": 15,
     "metadata": {},
     "output_type": "execute_result"
    }
   ],
   "source": [
    "ts_pattern = r'.*\\[(.*)\\].*'\n",
    "ts = []\n",
    "for row in sample:\n",
    "    t = None\n",
    "    m = re.match(ts_pattern, row)\n",
    "    if m:\n",
    "        t = m.group(1)\n",
    "    ts.append(t)\n",
    "ts"
   ]
  },
  {
   "cell_type": "code",
   "execution_count": 165,
   "metadata": {},
   "outputs": [
    {
     "data": {
      "text/plain": [
       "time.struct_time(tm_year=2017, tm_mon=4, tm_mday=1, tm_hour=18, tm_min=38, tm_sec=47, tm_wday=5, tm_yday=91, tm_isdst=-1)"
      ]
     },
     "execution_count": 165,
     "metadata": {},
     "output_type": "execute_result"
    }
   ],
   "source": [
    "time.strptime('01/Apr/2017:18:38:47 +0200' ,'%d/%b/%Y:%H:%M:%S %z')"
   ]
  },
  {
   "cell_type": "code",
   "execution_count": 16,
   "metadata": {},
   "outputs": [
    {
     "name": "stdout",
     "output_type": "stream",
     "text": [
      "Good to go\n"
     ]
    }
   ],
   "source": [
    "diff = total - df.select(regexp_extract('value', ts_pattern, 1)).count()\n",
    "if diff:\n",
    "    print(f\"{diff} rows did not match, need to work on the Regex pattern\")\n",
    "else:\n",
    "    print(\"Good to go\")"
   ]
  },
  {
   "cell_type": "markdown",
   "metadata": {},
   "source": [
    "### Extract HTTP Request"
   ]
  },
  {
   "cell_type": "code",
   "execution_count": null,
   "metadata": {},
   "outputs": [],
   "source": []
  },
  {
   "cell_type": "code",
   "execution_count": 56,
   "metadata": {},
   "outputs": [],
   "source": []
  },
  {
   "cell_type": "code",
   "execution_count": null,
   "metadata": {},
   "outputs": [],
   "source": []
  },
  {
   "cell_type": "code",
   "execution_count": null,
   "metadata": {},
   "outputs": [],
   "source": []
  },
  {
   "cell_type": "code",
   "execution_count": null,
   "metadata": {},
   "outputs": [],
   "source": []
  },
  {
   "cell_type": "code",
   "execution_count": null,
   "metadata": {},
   "outputs": [],
   "source": []
  },
  {
   "cell_type": "code",
   "execution_count": null,
   "metadata": {},
   "outputs": [],
   "source": []
  }
 ],
 "metadata": {
  "kernelspec": {
   "display_name": "Python 3",
   "language": "python",
   "name": "python3"
  },
  "language_info": {
   "codemirror_mode": {
    "name": "ipython",
    "version": 3
   },
   "file_extension": ".py",
   "mimetype": "text/x-python",
   "name": "python",
   "nbconvert_exporter": "python",
   "pygments_lexer": "ipython3",
   "version": "3.7.6"
  }
 },
 "nbformat": 4,
 "nbformat_minor": 4
}
